{
 "cells": [
  {
   "cell_type": "code",
   "execution_count": 9,
   "metadata": {
    "collapsed": true
   },
   "outputs": [],
   "source": [
    "import numpy as np\n",
    "#import scipy.stats as ss\n",
    "import matplotlib\n",
    "import matplotlib.pyplot as plt\n",
    "from astropy.io import ascii\n",
    "#from spectral_cube import SpectralCube\n",
    "#import pyregion\n",
    "#import astropy.units as u\n",
    "\n",
    "%matplotlib inline \n",
    "matplotlib.rcParams['axes.linewidth'] = 2.5\n",
    "matplotlib.rcParams['text.usetex'] = False\n",
    "matplotlib.rcParams['font.size'] = 20\n",
    "\n",
    "sectorad=np.pi/180./3600\n",
    "\n",
    "mol=62503 # aGg' ethylene glycol\n",
    "#mol=60003 # Methyl formate\n",
    "#mol=60006 # Glycolaldehyde"
   ]
  },
  {
   "cell_type": "code",
   "execution_count": 10,
   "metadata": {
    "collapsed": true
   },
   "outputs": [],
   "source": [
    "def partf(t,mol):\n",
    "    if mol==62503 :\n",
    "        lqtab=np.array([5.8492,5.6614,5.3967,4.9445,4.4922,4.0395,3.5858])\n",
    "        ttab=np.array([300,225,150,75,37.5,18.75,9.375])\n",
    "    if mol==60006 :\n",
    "        lqtab=np.log10(np.array([68416.9157,37614.8709,16321.0435,4632.3551,1587.6371,562.0801,199.5575]))\n",
    "        ttab=np.array([300,225,150,75,37.5,18.75,9.375])\n",
    "    if mol==60003 :\n",
    "        lqtab=np.log10(np.array([199602.70,121102.02,59072.96,17548.82,5772.42,2030.84,720.82]))\n",
    "        ttab=np.array([300,225,150,75,37.5,18.75,9.375])\n",
    "    #\n",
    "    ns=np.argsort(ttab)\n",
    "    lqint=np.interp(t,ttab[ns],lqtab[ns])\n",
    "    #\n",
    "    return 10.**lqint\n",
    "\n",
    "def fnlgl(smu2,nu,tdv):\n",
    "    # See Fontani+2002\n",
    "    # nu in GHz, tdv in K km/s, smu2 in D^2\n",
    "    kb=1.3806488e-16\n",
    "    const=3./8.*kb/np.pi/np.pi/np.pi*1.e-9*1.e5*1.e18*1.e18\n",
    "    return const/nu/smu2*tdv\n",
    "\n",
    "def fDnlgl(err,tdv,nlgl):\n",
    "    return nlgl*err/tdv\n"
   ]
  },
  {
   "cell_type": "code",
   "execution_count": 23,
   "metadata": {},
   "outputs": [
    {
     "name": "stdout",
     "output_type": "stream",
     "text": [
      "T= 617.945848768 N= 1.4619615493e+16\n"
     ]
    }
   ],
   "source": [
    "if(mol==62503): \n",
    "    data_0 = ascii.read(\"IRAS_B_spw0_agg.txt\") \n",
    "    nlgl_0=fnlgl(data_0['Smu2'],data_0['Frequenza'],data_0['Area']) \n",
    "    lnlgl_0=np.log(nlgl_0) \n",
    "    \n",
    "    data_1 = ascii.read(\"IRAS_B_spw1_agg.txt\") \n",
    "    nlgl_1=fnlgl(data_1['Smu2'],data_1['Frequenza'],data_1['Area']) \n",
    "    lnlgl_1=np.log(nlgl_1) \n",
    "    \n",
    "    data_2 = ascii.read(\"IRAS_B_spw2_agg.txt\") \n",
    "    nlgl_2=fnlgl(data_2['Smu2'],data_2['Frequenza'],data_2['Area']) \n",
    "    lnlgl_2=np.log(nlgl_2) \n",
    "    \n",
    "    data_3 = ascii.read(\"IRAS_B_spw3_agg.txt\") \n",
    "    nlgl_3=fnlgl(data_3['Smu2'],data_3['Frequenza'],data_3['Area']) \n",
    "    lnlgl_3=np.log(nlgl_3) \n",
    "    \n",
    "    ymin=22\n",
    "    ymax=26\n",
    "    xmin=0 \n",
    "    xmax=500\n",
    "   \n",
    "m,b = np.polyfit(np.concatenate((data_0['Eu'],data_1['Eu'],data_2['Eu'],data_3['Eu'])),np.concatenate((lnlgl_0,lnlgl_1,lnlgl_2,lnlgl_3)), 1)\n",
    "myt=-1./m\n",
    "\n",
    "q=partf(myt,mol)\n",
    "myn=np.e**b*q\n",
    "print \"T=\",myt,\"N=\",myn\n"
   ]
  },
  {
   "cell_type": "code",
   "execution_count": 24,
   "metadata": {
    "collapsed": true
   },
   "outputs": [],
   "source": [
    "Dnlgl_0=fDnlgl(data_0['Err'], data_0['Area'], nlgl_0)\n",
    "\n",
    "Dp_0=np.log(nlgl_0+Dnlgl_0)-lnlgl_0\n",
    "Dn_0=lnlgl_0-np.log(nlgl_0-Dnlgl_0)\n",
    "\n",
    "Dnlgl_1=fDnlgl(data_1['Err'], data_1['Area'], nlgl_1)\n",
    "\n",
    "Dp_1=np.log(nlgl_1+Dnlgl_1)-lnlgl_1\n",
    "Dn_1=lnlgl_1-np.log(nlgl_1-Dnlgl_1)\n",
    "\n",
    "Dnlgl_2=fDnlgl(data_2['Err'], data_2['Area'], nlgl_2)\n",
    "\n",
    "Dp_2=np.log(nlgl_2+Dnlgl_2)-lnlgl_2\n",
    "Dn_2=lnlgl_2-np.log(nlgl_2-Dnlgl_2)\n",
    "\n",
    "Dnlgl_3=fDnlgl(data_3['Err'], data_3['Area'], nlgl_3)\n",
    "\n",
    "Dp_3=np.log(nlgl_3+Dnlgl_3)-lnlgl_3\n",
    "Dn_3=lnlgl_3-np.log(nlgl_3-Dnlgl_3)\n",
    "\n",
    "x=np.copy(np.concatenate((data_0['Eu'],data_1['Eu'],data_2['Eu'],data_3['Eu'])))\n",
    "x.sort()"
   ]
  },
  {
   "cell_type": "code",
   "execution_count": 25,
   "metadata": {},
   "outputs": [
    {
     "data": {
      "text/plain": [
       "(22, 26)"
      ]
     },
     "execution_count": 25,
     "metadata": {},
     "output_type": "execute_result"
    },
    {
     "data": {
      "image/png": "[encoded data removed]",
      "text/plain": [
       "<matplotlib.figure.Figure at 0xae1c9e2c>"
      ]
     },
     "metadata": {},
     "output_type": "display_data"
    }
   ],
   "source": [
    "#plt.ion()\n",
    "#plt.plot(data['Eu'],lnlgl,'.',color='red')\n",
    "plt.errorbar(data_0['Eu'],lnlgl_0, yerr=[Dn_0,Dp_0], fmt= 'o', color='blue') \n",
    "\n",
    "plt.errorbar(data_1['Eu'],lnlgl_1, yerr=[Dn_1,Dp_1], fmt= 'o', color='red')\n",
    "\n",
    "plt.errorbar(data_2['Eu'],lnlgl_2, yerr=[Dn_2,Dp_2], fmt= 'o', color='orange')\n",
    "\n",
    "plt.errorbar(data_3['Eu'],lnlgl_3, yerr=[Dn_3,Dp_3], fmt= 'o', color='black')\n",
    "\n",
    "plt.plot(x,m*x+b,linestyle='dashed',color='green')\n",
    "plt.xlim(xmin,xmax)\n",
    "plt.ylim(ymin,ymax)\n",
    "#plt.draw()"
   ]
  },
  {
   "cell_type": "code",
   "execution_count": null,
   "metadata": {
    "collapsed": true
   },
   "outputs": [],
   "source": []
  }
 ],
 "metadata": {
  "kernelspec": {
   "display_name": "Python 2",
   "language": "python",
   "name": "python2"
  },
  "language_info": {
   "codemirror_mode": {
    "name": "ipython",
    "version": 2
   },
   "file_extension": ".py",
   "mimetype": "text/x-python",
   "name": "python",
   "nbconvert_exporter": "python",
   "pygments_lexer": "ipython2",
   "version": "2.7.13"
  }
 },
 "nbformat": 4,
 "nbformat_minor": 2
}
